{
 "cells": [
  {
   "cell_type": "markdown",
   "metadata": {},
   "source": [
    "# Planning: planning.jl; chapters 10-11\n",
    "This notebook describes the [planning.jl](https://github.com/aimacode/aima-julia/blob/master/planning.jl) module, which covers Chapters 10 (Classical Planning) and  11 (Planning and Acting in the Real World) of *[Artificial Intelligence: A Modern Approach](http://aima.cs.berkeley.edu)*.\n",
    "\n",
    "We'll start by looking at `PDDL` and `Action` data types for defining problems and actions. Then, we will see how to use them by trying to plan a trip from *Sibiu* to *Bucharest* across the familiar map of Romania.\n",
    "\n",
    "The first step is to load the code:"
   ]
  },
  {
   "cell_type": "code",
   "execution_count": 1,
   "metadata": {},
   "outputs": [],
   "source": [
    "include(\"aimajulia.jl\");\n",
    "\n",
    "using Main.aimajulia;"
   ]
  },
  {
   "cell_type": "markdown",
   "metadata": {},
   "source": [
    "To be able to model a planning problem properly, it is essential to be able to represent an Action. Each action we model requires at least three things:\n",
    "* preconditions that the action must meet\n",
    "* the effects of executing the action\n",
    "* some expression that represents the action\n",
    "\n",
    "Planning actions have been modelled using `Action`. It is interesting to see the way preconditions and effects are represented here. Instead of just being a list of expressions each, they consist of two arrays - `precond_pos` and `precond_neg`. This is to work around the fact that PDDL doesn't allow for negations. Thus, for each precondition, we maintain a seperate list of those preconditions that must hold true, and those whose negations must hold true. Similarly, instead of having a single array of expressions that are the result of executing an action, we have two. The first (`effect_add`) contains all the expressions that will evaluate to true if the action is executed, and the the second (`effect_neg`) contains all those expressions that would be false if the action is executed (ie. their negations would be true).\n",
    "\n",
    "The constructor parameters, however combine the two precondition arrays into a single `precond` parameter, and the effect arrays into a single `effect` parameter.\n",
    "\n",
    "`PDDL` is used to represent planning problems in this module. The following attributes are essential to be able to define a problem:\n",
    "* a goal test\n",
    "* an initial state\n",
    "* a set of viable actions that can be executed in the search space of the problem\n",
    "\n",
    "Now lets try to define a planning problem. Since we already know about the map of Romania, lets see if we can plan a trip across a simplified map of Romania.\n",
    "\n",
    "Here is our simplified map definition:"
   ]
  },
  {
   "cell_type": "code",
   "execution_count": 2,
   "metadata": {},
   "outputs": [],
   "source": [
    "knowledge_base = [\n",
    "    expr(\"Connected(Bucharest,Pitesti)\"),\n",
    "    expr(\"Connected(Pitesti,Rimnicu)\"),\n",
    "    expr(\"Connected(Rimnicu,Sibiu)\"),\n",
    "    expr(\"Connected(Sibiu,Fagaras)\"),\n",
    "    expr(\"Connected(Fagaras,Bucharest)\"),\n",
    "    expr(\"Connected(Pitesti,Craiova)\"),\n",
    "    expr(\"Connected(Craiova,Rimnicu)\"),\n",
    "];"
   ]
  },
  {
   "cell_type": "markdown",
   "metadata": {},
   "source": [
    "Let us add some logic propositions to complete our knowledge about travelling around the map. These are the typical symmetry and transitivity properties of connections on a map. We can now be sure that our `knowledge_base` understands what it truly means for two locations to be connected in the sense usually meant by humans when we use the term.\n",
    "\n",
    "Let's also add our starting location - *Sibiu* to the map."
   ]
  },
  {
   "cell_type": "code",
   "execution_count": 3,
   "metadata": {},
   "outputs": [
    {
     "data": {
      "text/plain": [
       "10-element Array{Expression,1}:\n",
       " Connected(Bucharest, Pitesti)                            \n",
       " Connected(Pitesti, Rimnicu)                              \n",
       " Connected(Rimnicu, Sibiu)                                \n",
       " Connected(Sibiu, Fagaras)                                \n",
       " Connected(Fagaras, Bucharest)                            \n",
       " Connected(Pitesti, Craiova)                              \n",
       " Connected(Craiova, Rimnicu)                              \n",
       " (Connected(x, y) ==> Connected(y, x))                    \n",
       " ((Connected(x, y) & Connected(y, z)) ==> Connected(x, z))\n",
       " At(Sibiu)                                                "
      ]
     },
     "execution_count": 3,
     "metadata": {},
     "output_type": "execute_result"
    }
   ],
   "source": [
    "for element in [\n",
    "        expr(\"Connected(x,y) ==> Connected(y,x)\"),\n",
    "        expr(\"Connected(x,y) & Connected(y,z) ==> Connected(x,z)\"),\n",
    "        expr(\"At(Sibiu)\")\n",
    "    ]\n",
    "    push!(knowledge_base, element);\n",
    "end\n",
    "knowledge_base"
   ]
  },
  {
   "cell_type": "markdown",
   "metadata": {},
   "source": [
    "We now define possible actions to our problem. We know that we can drive between any connected places. But, as is evident from [this](https://en.wikipedia.org/wiki/List_of_airports_in_Romania) list of Romanian airports, we can also fly directly between Sibiu, Bucharest, and Craiova.\n",
    "\n",
    "We can define these flight actions like this:"
   ]
  },
  {
   "cell_type": "code",
   "execution_count": 4,
   "metadata": {},
   "outputs": [],
   "source": [
    "# Sibiu to Bucharest\n",
    "precond_pos = [expr(\"At(Sibiu)\")];\n",
    "precond_neg = [];\n",
    "effect_add = [expr(\"At(Bucharest)\")];\n",
    "effect_rem = [expr(\"At(Sibiu)\")];\n",
    "fly_s_b = PlanningAction(expr(\"Fly(Sibiu, Bucharest)\"), (precond_pos, precond_neg), (effect_add, effect_rem));\n",
    "\n",
    "# Bucharest to Sibiu\n",
    "precond_pos = [expr(\"At(Bucharest)\")];\n",
    "precond_neg = [];\n",
    "effect_add = [expr(\"At(Sibiu)\")];\n",
    "effect_rem = [expr(\"At(Bucharest)\")];\n",
    "fly_b_s = PlanningAction(expr(\"Fly(Bucharest, Sibiu)\"), (precond_pos, precond_neg), (effect_add, effect_rem));\n",
    "\n",
    "# Sibiu to Craiova\n",
    "precond_pos = [expr(\"At(Sibiu)\")];\n",
    "precond_neg = [];\n",
    "effect_add = [expr(\"At(Craiova)\")];\n",
    "effect_rem = [expr(\"At(Sibiu)\")];\n",
    "fly_s_c = PlanningAction(expr(\"Fly(Sibiu, Craiova)\"), (precond_pos, precond_neg), (effect_add, effect_rem));\n",
    "\n",
    "# Craiova to Sibiu\n",
    "precond_pos = [expr(\"At(Craiova)\")];\n",
    "precond_neg = [];\n",
    "effect_add = [expr(\"At(Sibiu)\")];\n",
    "effect_rem = [expr(\"At(Craiova)\")];\n",
    "fly_c_s = PlanningAction(expr(\"Fly(Craiova, Sibiu)\"), (precond_pos, precond_neg), (effect_add, effect_rem));\n",
    "\n",
    "# Bucharest to Craiova\n",
    "precond_pos = [expr(\"At(Bucharest)\")];\n",
    "precond_neg = [];\n",
    "effect_add = [expr(\"At(Craiova)\")];\n",
    "effect_rem = [expr(\"At(Bucharest)\")];\n",
    "fly_b_c = PlanningAction(expr(\"Fly(Bucharest, Craiova)\"), (precond_pos, precond_neg), (effect_add, effect_rem));\n",
    "\n",
    "# Craiova to Bucharest\n",
    "precond_pos = [expr(\"At(Craiova)\")];\n",
    "precond_neg = [];\n",
    "effect_add = [expr(\"At(Bucharest)\")];\n",
    "effect_rem = [expr(\"At(Craiova)\")];\n",
    "fly_c_b = PlanningAction(expr(\"Fly(Craiova, Bucharest)\"), (precond_pos, precond_neg), (effect_add, effect_rem));"
   ]
  },
  {
   "cell_type": "markdown",
   "metadata": {},
   "source": [
    "And the drive actions like this."
   ]
  },
  {
   "cell_type": "code",
   "execution_count": 9,
   "metadata": {},
   "outputs": [],
   "source": [
    "# Drive\n",
    "precond_pos = [expr(\"At(x)\"), expr(\"Connected(x,y)\")];\n",
    "precond_neg = [];\n",
    "effect_add = [expr(\"At(y)\")];\n",
    "effect_rem = [expr(\"At(x)\")];\n",
    "drive = PlanningAction(expr(\"Drive(x, y)\"), (precond_pos, precond_neg), (effect_add, effect_rem));"
   ]
  },
  {
   "cell_type": "markdown",
   "metadata": {},
   "source": [
    "Finally, we can define a a function that will tell us when we have reached our destination, Bucharest."
   ]
  },
  {
   "cell_type": "code",
   "execution_count": 10,
   "metadata": {},
   "outputs": [
    {
     "data": {
      "text/plain": [
       "goal_text (generic function with 1 method)"
      ]
     },
     "execution_count": 10,
     "metadata": {},
     "output_type": "execute_result"
    }
   ],
   "source": [
    "function goal_text(kb::PDDL)\n",
    "    return ask(kb, expr(\"At(Bucharest)\"));\n",
    "end"
   ]
  },
  {
   "cell_type": "markdown",
   "metadata": {},
   "source": [
    "Thus, with all the components in place, we can define the planning problem."
   ]
  },
  {
   "cell_type": "code",
   "execution_count": 11,
   "metadata": {},
   "outputs": [
    {
     "data": {
      "text/plain": [
       "PDDL(FirstOrderLogicKnowledgeBase(Expression[Connected(Bucharest, Pitesti), Connected(Pitesti, Rimnicu), Connected(Rimnicu, Sibiu), Connected(Sibiu, Fagaras), Connected(Fagaras, Bucharest), Connected(Pitesti, Craiova), Connected(Craiova, Rimnicu), (Connected(x, y) ==> Connected(y, x)), ((Connected(x, y) & Connected(y, z)) ==> Connected(x, z)), At(Sibiu)]), PlanningAction[PlanningAction(\"Fly\", (Sibiu, Bucharest), Expression[At(Sibiu)], Expression[], Expression[At(Bucharest)], Expression[At(Sibiu)]), PlanningAction(\"Fly\", (Bucharest, Sibiu), Expression[At(Bucharest)], Expression[], Expression[At(Sibiu)], Expression[At(Bucharest)]), PlanningAction(\"Fly\", (Sibiu, Craiova), Expression[At(Sibiu)], Expression[], Expression[At(Craiova)], Expression[At(Sibiu)]), PlanningAction(\"Fly\", (Craiova, Sibiu), Expression[At(Craiova)], Expression[], Expression[At(Sibiu)], Expression[At(Craiova)]), PlanningAction(\"Fly\", (Bucharest, Craiova), Expression[At(Bucharest)], Expression[], Expression[At(Craiova)], Expression[At(Bucharest)]), PlanningAction(\"Fly\", (Craiova, Bucharest), Expression[At(Craiova)], Expression[], Expression[At(Bucharest)], Expression[At(Craiova)]), PlanningAction(\"Drive\", (x, y), Expression[At(x), Connected(x, y)], Expression[], Expression[At(y)], Expression[At(x)])], Main.aimajulia.goal_test)"
      ]
     },
     "execution_count": 11,
     "metadata": {},
     "output_type": "execute_result"
    }
   ],
   "source": [
    "prob = PDDL(knowledge_base, [fly_s_b, fly_b_s, fly_s_c, fly_c_s, fly_b_c, fly_c_b, drive], goal_test)"
   ]
  },
  {
   "cell_type": "code",
   "execution_count": 12,
   "metadata": {},
   "outputs": [
    {
     "name": "stdout",
     "output_type": "stream",
     "text": [
      "\n",
      "Solution:\n",
      "nothing\n",
      "Solution:\n",
      "Any[Array{Any,1}[[Fly(Sibiu, Bucharest)]], Array{Any,1}[[Fly(Sibiu, Bucharest)], [Persistence(At(Bucharest))]], Array{Any,1}[[Fly(Sibiu, Craiova)], [Fly(Craiova, Bucharest)]], Array{Any,1}[[Drive(Sibiu, Fagaras), Persistence(Connected(Fagaras, Bucharest))], [Drive(Fagaras, Bucharest)]]]"
     ]
    },
    {
     "data": {
      "text/plain": [
       "4-element Array{Any,1}:\n",
       " Array{Any,1}[[Fly(Sibiu, Bucharest)]]                                                                         \n",
       " Array{Any,1}[[Fly(Sibiu, Bucharest)], [Persistence(At(Bucharest))]]                                           \n",
       " Array{Any,1}[[Fly(Sibiu, Craiova)], [Fly(Craiova, Bucharest)]]                                                \n",
       " Array{Any,1}[[Drive(Sibiu, Fagaras), Persistence(Connected(Fagaras, Bucharest))], [Drive(Fagaras, Bucharest)]]"
      ]
     },
     "execution_count": 12,
     "metadata": {},
     "output_type": "execute_result"
    }
   ],
   "source": [
    "# apddl = AbstractPDDL(knowledge_base, [fly_s_b, fly_b_s, fly_s_c, fly_c_s, fly_b_c, fly_c_b, drive], goal_test)\n",
    "folkb = FirstOrderLogicKnowledgeBase(knowledge_base)\n",
    "gpp = GraphPlanProblem(prob, folkb)\n",
    "\n",
    "graphplan(gpp, ([expr(\"At(Bucharest)\")], []))\n",
    "# execute_action(gpp, nothing)"
   ]
  },
  {
   "cell_type": "code",
   "execution_count": null,
   "metadata": {},
   "outputs": [],
   "source": []
  }
 ],
 "metadata": {
  "kernelspec": {
   "display_name": "Julia 1.1.1",
   "language": "julia",
   "name": "julia-1.1"
  },
  "language_info": {
   "file_extension": ".jl",
   "mimetype": "application/julia",
   "name": "julia",
   "version": "1.1.1"
  }
 },
 "nbformat": 4,
 "nbformat_minor": 4
}
